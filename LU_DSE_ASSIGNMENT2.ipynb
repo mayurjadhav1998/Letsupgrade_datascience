{
  "nbformat": 4,
  "nbformat_minor": 0,
  "metadata": {
    "colab": {
      "name": "LU_DSE_ASSIGNMENT2.ipynb",
      "provenance": [],
      "include_colab_link": true
    },
    "kernelspec": {
      "name": "python3",
      "display_name": "Python 3"
    }
  },
  "cells": [
    {
      "cell_type": "markdown",
      "metadata": {
        "id": "view-in-github",
        "colab_type": "text"
      },
      "source": [
        "<a href=\"https://colab.research.google.com/github/mayurjadhav1998/Letsupgrade_datascience/blob/main/LU_DSE_ASSIGNMENT2.ipynb\" target=\"_parent\"><img src=\"https://colab.research.google.com/assets/colab-badge.svg\" alt=\"Open In Colab\"/></a>"
      ]
    },
    {
      "cell_type": "markdown",
      "metadata": {
        "id": "90eGoxp0OTbq"
      },
      "source": [
        "**Question 1**"
      ]
    },
    {
      "cell_type": "code",
      "metadata": {
        "id": "dYHcfvjRLMAE",
        "outputId": "1c21b995-80bb-419f-8b51-138e4ac078c6",
        "colab": {
          "base_uri": "https://localhost:8080/"
        }
      },
      "source": [
        "li = []\n",
        "for i in range(10):\n",
        "    x = int(input())2\n",
        "    if x%2==0:\n",
        "        li.append(x)\n",
        "print(li)"
      ],
      "execution_count": null,
      "outputs": [
        {
          "output_type": "stream",
          "text": [
            "11\n",
            "22\n",
            "33\n",
            "44\n",
            "55\n",
            "444\n",
            "333\n",
            "22\n",
            "666\n",
            "777\n",
            "[22, 44, 444, 22, 666]\n"
          ],
          "name": "stdout"
        }
      ]
    },
    {
      "cell_type": "markdown",
      "metadata": {
        "id": "wtqKYk4JOcKh"
      },
      "source": [
        "**Question 2**"
      ]
    },
    {
      "cell_type": "markdown",
      "metadata": {
        "id": "cB1ZrElCLqlx"
      },
      "source": [
        "List comprehension is used to generate a list using an iterator as the basis for the list being created.They consist of brackets containing the expression, which is executed for each element along with the for loop to iterate over each element. \n",
        "Syntax: new_list = (value for_loop condition)"
      ]
    },
    {
      "cell_type": "code",
      "metadata": {
        "id": "cMxQRYlERqwd",
        "outputId": "1a4db813-e619-4cea-af6e-0540ae9117a7",
        "colab": {
          "base_uri": "https://localhost:8080/"
        }
      },
      "source": [
        "#Example of List Comprehension print double of given numbers\n",
        "\n",
        "numbers = [1,4,6,8,3,5,9,10,20,26,30,40]\n",
        "\n",
        "double = [n*2 for n in numbers]\n",
        "print(double)"
      ],
      "execution_count": null,
      "outputs": [
        {
          "output_type": "stream",
          "text": [
            "[2, 8, 12, 16, 6, 10, 18, 20, 40, 52, 60, 80]\n"
          ],
          "name": "stdout"
        }
      ]
    },
    {
      "cell_type": "markdown",
      "metadata": {
        "id": "5IEbze0AOhW2"
      },
      "source": [
        "**Question 3**\n"
      ]
    },
    {
      "cell_type": "code",
      "metadata": {
        "id": "AlXlzoMCOJtp",
        "outputId": "11d6ade5-d097-4dfc-a7d5-4dd48b020174",
        "colab": {
          "base_uri": "https://localhost:8080/"
        }
      },
      "source": [
        "dict = {}\n",
        "n = int(input())\n",
        "for i in range(1,n+1):\n",
        "  dict[i] = i*i\n",
        "print(dict)"
      ],
      "execution_count": null,
      "outputs": [
        {
          "output_type": "stream",
          "text": [
            "7\n",
            "{1: 1, 2: 4, 3: 9, 4: 16, 5: 25, 6: 36, 7: 49}\n"
          ],
          "name": "stdout"
        }
      ]
    },
    {
      "cell_type": "markdown",
      "metadata": {
        "id": "7d8LHy5YP7Sy"
      },
      "source": [
        "**Question 4**\n"
      ]
    },
    {
      "cell_type": "code",
      "metadata": {
        "id": "ygR_75JkP45J",
        "outputId": "dbc1407c-2878-4877-9830-2db4e104bea1",
        "colab": {
          "base_uri": "https://localhost:8080/"
        }
      },
      "source": [
        "\n",
        "x=0\n",
        "y=0\n",
        "n = int(input())\n",
        "\n",
        "for i in range(n):\n",
        "    direction = input().split(' ')  \n",
        "    \n",
        "    if direction[0].upper() == \"UP\":\n",
        "        y += int(direction[1])\n",
        "    elif direction[0].upper() == \"RIGHT\":\n",
        "        x += int(direction[1])\n",
        "    elif direction[0].upper() == \"DOWN\":\n",
        "        y -= int(direction[1])\n",
        "    elif direction[0].upper() == \"LEFT\":\n",
        "        x -= int(direction[1])\n",
        "    else:\n",
        "        print(\"Invalid Input\")    \n",
        "pos = float((x**2+y**2)**0.5)\n",
        "print(round(pos))"
      ],
      "execution_count": null,
      "outputs": [
        {
          "output_type": "stream",
          "text": [
            "4\n",
            "UP 10\n",
            "RIGHT 20\n",
            "DOWN 4\n",
            "LEFT 10\n",
            "12\n"
          ],
          "name": "stdout"
        }
      ]
    }
  ]
}